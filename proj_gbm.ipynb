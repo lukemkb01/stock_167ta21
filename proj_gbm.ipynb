{
 "cells": [
  {
   "cell_type": "code",
   "execution_count": 1,
   "id": "97650ad6-7cc1-4edb-82f7-145a71146ec2",
   "metadata": {
    "tags": []
   },
   "outputs": [],
   "source": [
    "import pandas as pd\n",
    "import numpy as np\n",
    "import datetime as dt\n",
    "import lightgbm as lgb\n",
    "import os\n",
    "\n",
    "from sklearn.model_selection import train_test_split\n",
    "from sklearn.metrics import mean_squared_error, r2_score, accuracy_score, precision_score, recall_score, f1_score, roc_auc_score, confusion_matrix\n",
    "\n",
    "import matplotlib.pyplot as plt\n",
    "import seaborn as sns"
   ]
  },
  {
   "cell_type": "code",
   "execution_count": 2,
   "id": "16b1a747-dcf9-4e79-8c47-c6a4681bc976",
   "metadata": {
    "tags": []
   },
   "outputs": [
    {
     "data": {
      "text/plain": [
       "'/Users/oscar.martinez/Library/CloudStorage/OneDrive-CoxAutomotive/Documents/GT/MGT6203/Project'"
      ]
     },
     "execution_count": 2,
     "metadata": {},
     "output_type": "execute_result"
    }
   ],
   "source": [
    "os.getcwd()"
   ]
  },
  {
   "cell_type": "code",
   "execution_count": null,
   "id": "70398ba1-b937-4832-a942-ee52a6262738",
   "metadata": {},
   "outputs": [],
   "source": [
    "np.random.seed(123456789)"
   ]
  },
  {
   "cell_type": "code",
   "execution_count": 41,
   "id": "dc0d74fe-7be0-434a-811b-ca0e713e5d14",
   "metadata": {
    "tags": []
   },
   "outputs": [],
   "source": [
    "# import the data\n",
    "df_2014 = pd.read_csv('stock_financial_data/2014_Financial_Data.csv')\n",
    "df_2014['year'] = 2014\n",
    "\n",
    "df_2015 = pd.read_csv('stock_financial_data/2015_Financial_Data.csv')\n",
    "df_2015['year'] = 2015\n",
    "\n",
    "df_2016 = pd.read_csv('stock_financial_data/2016_Financial_Data.csv')\n",
    "df_2016['year'] = 2016\n",
    "\n",
    "df_2017 = pd.read_csv('stock_financial_data/2017_Financial_Data.csv')\n",
    "df_2017['year'] = 2017\n",
    "\n",
    "df_2018 = pd.read_csv('stock_financial_data/2018_Financial_Data.csv')\n",
    "df_2018['year'] = 2018\n",
    "\n",
    "# rename a column so we can append\n",
    "for df in [df_2014, df_2015, df_2016, df_2017, df_2018]:\n",
    "    df.columns = ['PRICE VAR' if 'PRICE VAR' in x else x for x in list(df.columns)]\n",
    "    df.rename(columns={'Unnamed: 0':'company'}, inplace=True)"
   ]
  },
  {
   "cell_type": "code",
   "execution_count": 42,
   "id": "f034c1eb-d82b-473e-9af8-f1df68636f1b",
   "metadata": {
    "tags": []
   },
   "outputs": [],
   "source": [
    "# concatenate/append data together\n",
    "df = pd.concat([df_2014, df_2015, df_2016, df_2017, df_2018], ignore_index=True)\n",
    "\n",
    "# delete the uneeded data frames to free up memory\n",
    "del [df_2014, df_2015, df_2016, df_2017, df_2018]"
   ]
  },
  {
   "cell_type": "code",
   "execution_count": 46,
   "id": "975e6610-8e52-419a-a52a-6c54d4810c2c",
   "metadata": {
    "tags": []
   },
   "outputs": [],
   "source": [
    "# indicator to denote if this is for the final evaluation or not\n",
    "final = 1\n",
    "\n",
    "# fraction to test-train on\n",
    "test_frac = 0.25\n",
    "\n",
    "if final == 1:\n",
    "    # drop rows that are missing our two dependent variables\n",
    "    df.dropna(subset=['PRICE VAR','Class'], inplace=True)\n",
    "\n",
    "    # create a helper df to help keep only the companies that have entries across all years\n",
    "    val_df = pd.DataFrame(df['company'].value_counts()).reset_index()\n",
    "\n",
    "    # list with the companies that we shoiuld keep\n",
    "    co_keep_list = list(val_df.loc[val_df['count']==5, 'company'].unique())\n",
    "    \n",
    "    # keep only the companies that satisfy our filtering criteria\n",
    "    df = df.loc[df['company'].isin(co_keep_list), :].copy()    \n",
    "    \n",
    "    # subset the final list of columns roughly in half for training and testing\n",
    "    test_cos = np.random.choice(co_keep_list, size = int(np.ceil(len(co_keep_list)*test_frac)), replace=False)\n",
    "    \n",
    "    # indicate whether we are testing or training with these models\n",
    "    df['test'] = 0\n",
    "    df.loc[df['company'].isin(test_cos), 'test'] = 1"
   ]
  },
  {
   "cell_type": "code",
   "execution_count": 47,
   "id": "e1a191bb-7984-41da-b5d6-a7520de43ee6",
   "metadata": {
    "tags": []
   },
   "outputs": [
    {
     "data": {
      "text/plain": [
       "test\n",
       "0    13970\n",
       "1     4660\n",
       "Name: count, dtype: int64"
      ]
     },
     "execution_count": 47,
     "metadata": {},
     "output_type": "execute_result"
    }
   ],
   "source": [
    "df['test'].value_counts()"
   ]
  },
  {
   "cell_type": "code",
   "execution_count": 48,
   "id": "d13dff6e-8f3e-4f24-bc75-ccc5ca8c6ba8",
   "metadata": {
    "tags": []
   },
   "outputs": [],
   "source": [
    "# one-hot encoding sector variable\n",
    "df = pd.get_dummies(df, columns=['Sector'])"
   ]
  },
  {
   "cell_type": "code",
   "execution_count": 49,
   "id": "368145ee-938d-46f2-9d7a-f03cf8cbaf90",
   "metadata": {
    "tags": []
   },
   "outputs": [
    {
     "data": {
      "text/plain": [
       "['Net Cash/Marketcap', 'Market Cap']"
      ]
     },
     "execution_count": 49,
     "metadata": {},
     "output_type": "execute_result"
    }
   ],
   "source": [
    "[x for x in list(df.columns) if 'market' in x.lower()]"
   ]
  },
  {
   "cell_type": "code",
   "execution_count": 50,
   "id": "718b1224-9011-43ac-9bf4-dc18ec55a7d0",
   "metadata": {
    "tags": []
   },
   "outputs": [
    {
     "name": "stdout",
     "output_type": "stream",
     "text": [
      "<class 'pandas.core.frame.DataFrame'>\n",
      "Index: 18630 entries, 0 to 22073\n",
      "Data columns (total 1 columns):\n",
      " #   Column      Non-Null Count  Dtype  \n",
      "---  ------      --------------  -----  \n",
      " 0   Market Cap  17384 non-null  float64\n",
      "dtypes: float64(1)\n",
      "memory usage: 291.1 KB\n"
     ]
    }
   ],
   "source": [
    "df[['Market Cap']].info()"
   ]
  },
  {
   "cell_type": "code",
   "execution_count": 51,
   "id": "03f7f1d7-cc99-4762-82ec-3234a6aaac92",
   "metadata": {
    "tags": []
   },
   "outputs": [],
   "source": [
    "# gbm models do not support special json charcters as feature names\n",
    "df.columns = [x.replace(' ', '_').replace('(', '').replace(')','').replace('&', '_and_')\\\n",
    "              .replace('/', '-').replace('\\\\', '').replace(',','') for x in  list(df.columns)]"
   ]
  },
  {
   "cell_type": "markdown",
   "id": "3c89253c-0128-4e74-aafb-3a7a8f9e6e04",
   "metadata": {},
   "source": [
    "## Numerical predictor"
   ]
  },
  {
   "cell_type": "code",
   "execution_count": 52,
   "id": "f32411f8-fd08-4caf-915f-d55e045b3996",
   "metadata": {
    "tags": []
   },
   "outputs": [],
   "source": [
    "# Split the data\n",
    "if final == 0:\n",
    "    # drop company name as well as 'PRICE VAR','Class' which are what we're trying to predict and a sector to prevent perfect multicollinearity\n",
    "    X = df.drop(columns=['company','PRICE_VAR','Class','Sector_Technology', 'year']).copy() # dropped a sector to not have perfect collinearity    \n",
    "    \n",
    "    # define what we are trying to predict\n",
    "    y=df['PRICE_VAR'].copy()    \n",
    "    \n",
    "    X_train, X_test, y_train, y_test = train_test_split(\n",
    "        X, y, test_size=0.2, random_state=123456789\n",
    "    )\n",
    "elif final == 1:\n",
    "    # dropped a sector to not have perfect collinearity    \n",
    "    X_train = df.loc[df['test']==0, :].drop(columns=['company','PRICE_VAR','Class','Sector_Technology', 'year', 'test']).copy()\n",
    "    X_test = df.loc[df['test']==1, :].drop(columns=['company','PRICE_VAR','Class','Sector_Technology', 'year', 'test']).copy()\n",
    "    y_train = df.loc[df['test']==0, 'PRICE_VAR'].copy()\n",
    "    y_test = df.loc[df['test']==1, 'PRICE_VAR'].copy()\n",
    "    \n",
    "    # create an info df to be able to piece back the info\n",
    "    info_train = df.loc[df['test']==0, ['company', 'year', 'test']].copy()    \n",
    "    info_test = df.loc[df['test']==1, ['company', 'year', 'test']].copy()\n",
    "\n",
    "# Create LightGBM datasets\n",
    "train_data = lgb.Dataset(X_train, label=y_train)\n",
    "test_data = lgb.Dataset(X_test, label=y_test, reference=train_data)\n",
    "\n",
    "# Set parameters\n",
    "params = {\n",
    "    'objective': 'regression',  # for regression problems\n",
    "    'metric': 'rmse',          # evaluation metric\n",
    "    'num_leaves': 31,          # max number of leaves in one tree\n",
    "    'learning_rate': 0.05,     # learning rate\n",
    "    'feature_fraction': 0.9,   # fraction of features to use in each iteration\n",
    "    'bagging_fraction': 0.8,   # fraction of data to use for each iteration\n",
    "    'bagging_freq': 5,         # perform bagging every k iterations\n",
    "    'verbose': -1              # suppress printing\n",
    "}\n",
    "\n",
    "# Train model\n",
    "model = lgb.train(\n",
    "    params,\n",
    "    train_data\n",
    ")\n",
    "\n",
    "# Make predictions\n",
    "y_pred = model.predict(X_test)\n",
    "\n",
    "# Calculate metrics\n",
    "rmse = mean_squared_error(y_test, y_pred, squared=False)\n",
    "r2 = r2_score(y_test, y_pred)"
   ]
  },
  {
   "cell_type": "code",
   "execution_count": 53,
   "id": "92d18072-b2cd-49f9-8d67-105be0e3f074",
   "metadata": {
    "tags": []
   },
   "outputs": [],
   "source": [
    "# Feature importance\n",
    "feature_importance = pd.DataFrame({\n",
    "    'feature': X.columns,\n",
    "    'importance': model.feature_importance()\n",
    "}).sort_values('importance', ascending=False)"
   ]
  },
  {
   "cell_type": "code",
   "execution_count": 54,
   "id": "792e13c5-af37-470e-8b2b-fd3a0e916a81",
   "metadata": {
    "tags": []
   },
   "outputs": [
    {
     "data": {
      "text/html": [
       "<div>\n",
       "<style scoped>\n",
       "    .dataframe tbody tr th:only-of-type {\n",
       "        vertical-align: middle;\n",
       "    }\n",
       "\n",
       "    .dataframe tbody tr th {\n",
       "        vertical-align: top;\n",
       "    }\n",
       "\n",
       "    .dataframe thead th {\n",
       "        text-align: right;\n",
       "    }\n",
       "</style>\n",
       "<table border=\"1\" class=\"dataframe\">\n",
       "  <thead>\n",
       "    <tr style=\"text-align: right;\">\n",
       "      <th></th>\n",
       "      <th>feature</th>\n",
       "      <th>importance</th>\n",
       "    </tr>\n",
       "  </thead>\n",
       "  <tbody>\n",
       "    <tr>\n",
       "      <th>152</th>\n",
       "      <td>Earnings_Yield</td>\n",
       "      <td>278</td>\n",
       "    </tr>\n",
       "    <tr>\n",
       "      <th>153</th>\n",
       "      <td>Free_Cash_Flow_Yield</td>\n",
       "      <td>228</td>\n",
       "    </tr>\n",
       "    <tr>\n",
       "      <th>172</th>\n",
       "      <td>Graham_Net-Net</td>\n",
       "      <td>182</td>\n",
       "    </tr>\n",
       "    <tr>\n",
       "      <th>140</th>\n",
       "      <td>Market_Cap</td>\n",
       "      <td>139</td>\n",
       "    </tr>\n",
       "    <tr>\n",
       "      <th>151</th>\n",
       "      <td>EV_to_Free_cash_flow</td>\n",
       "      <td>123</td>\n",
       "    </tr>\n",
       "    <tr>\n",
       "      <th>141</th>\n",
       "      <td>Enterprise_Value</td>\n",
       "      <td>102</td>\n",
       "    </tr>\n",
       "    <tr>\n",
       "      <th>86</th>\n",
       "      <td>priceFairValue</td>\n",
       "      <td>79</td>\n",
       "    </tr>\n",
       "    <tr>\n",
       "      <th>164</th>\n",
       "      <td>Intangibles_to_Total_Assets</td>\n",
       "      <td>73</td>\n",
       "    </tr>\n",
       "    <tr>\n",
       "      <th>16</th>\n",
       "      <td>EPS</td>\n",
       "      <td>71</td>\n",
       "    </tr>\n",
       "    <tr>\n",
       "      <th>74</th>\n",
       "      <td>Net_Cash-Marketcap</td>\n",
       "      <td>70</td>\n",
       "    </tr>\n",
       "    <tr>\n",
       "      <th>119</th>\n",
       "      <td>companyEquityMultiplier</td>\n",
       "      <td>68</td>\n",
       "    </tr>\n",
       "    <tr>\n",
       "      <th>42</th>\n",
       "      <td>Total_assets</td>\n",
       "      <td>64</td>\n",
       "    </tr>\n",
       "    <tr>\n",
       "      <th>156</th>\n",
       "      <td>Net_Debt_to_EBITDA</td>\n",
       "      <td>56</td>\n",
       "    </tr>\n",
       "    <tr>\n",
       "      <th>157</th>\n",
       "      <td>Current_ratio</td>\n",
       "      <td>56</td>\n",
       "    </tr>\n",
       "    <tr>\n",
       "      <th>77</th>\n",
       "      <td>priceToSalesRatio</td>\n",
       "      <td>55</td>\n",
       "    </tr>\n",
       "    <tr>\n",
       "      <th>121</th>\n",
       "      <td>freeCashFlowPerShare</td>\n",
       "      <td>55</td>\n",
       "    </tr>\n",
       "    <tr>\n",
       "      <th>19</th>\n",
       "      <td>Weighted_Average_Shs_Out_Dil</td>\n",
       "      <td>32</td>\n",
       "    </tr>\n",
       "    <tr>\n",
       "      <th>216</th>\n",
       "      <td>Asset_Growth</td>\n",
       "      <td>30</td>\n",
       "    </tr>\n",
       "    <tr>\n",
       "      <th>81</th>\n",
       "      <td>priceCashFlowRatio</td>\n",
       "      <td>28</td>\n",
       "    </tr>\n",
       "    <tr>\n",
       "      <th>159</th>\n",
       "      <td>Income_Quality</td>\n",
       "      <td>25</td>\n",
       "    </tr>\n",
       "    <tr>\n",
       "      <th>82</th>\n",
       "      <td>priceEarningsToGrowthRatio</td>\n",
       "      <td>25</td>\n",
       "    </tr>\n",
       "    <tr>\n",
       "      <th>75</th>\n",
       "      <td>priceBookValueRatio</td>\n",
       "      <td>23</td>\n",
       "    </tr>\n",
       "    <tr>\n",
       "      <th>168</th>\n",
       "      <td>Stock-based_compensation_to_Revenue</td>\n",
       "      <td>22</td>\n",
       "    </tr>\n",
       "    <tr>\n",
       "      <th>95</th>\n",
       "      <td>returnOnAssets</td>\n",
       "      <td>22</td>\n",
       "    </tr>\n",
       "    <tr>\n",
       "      <th>61</th>\n",
       "      <td>Stock-based_compensation</td>\n",
       "      <td>22</td>\n",
       "    </tr>\n",
       "  </tbody>\n",
       "</table>\n",
       "</div>"
      ],
      "text/plain": [
       "                                 feature  importance\n",
       "152                       Earnings_Yield         278\n",
       "153                 Free_Cash_Flow_Yield         228\n",
       "172                       Graham_Net-Net         182\n",
       "140                           Market_Cap         139\n",
       "151                 EV_to_Free_cash_flow         123\n",
       "141                     Enterprise_Value         102\n",
       "86                        priceFairValue          79\n",
       "164          Intangibles_to_Total_Assets          73\n",
       "16                                   EPS          71\n",
       "74                    Net_Cash-Marketcap          70\n",
       "119              companyEquityMultiplier          68\n",
       "42                          Total_assets          64\n",
       "156                   Net_Debt_to_EBITDA          56\n",
       "157                        Current_ratio          56\n",
       "77                     priceToSalesRatio          55\n",
       "121                 freeCashFlowPerShare          55\n",
       "19          Weighted_Average_Shs_Out_Dil          32\n",
       "216                         Asset_Growth          30\n",
       "81                    priceCashFlowRatio          28\n",
       "159                       Income_Quality          25\n",
       "82            priceEarningsToGrowthRatio          25\n",
       "75                   priceBookValueRatio          23\n",
       "168  Stock-based_compensation_to_Revenue          22\n",
       "95                        returnOnAssets          22\n",
       "61              Stock-based_compensation          22"
      ]
     },
     "execution_count": 54,
     "metadata": {},
     "output_type": "execute_result"
    }
   ],
   "source": [
    "feature_importance.head(25)"
   ]
  },
  {
   "cell_type": "code",
   "execution_count": 116,
   "id": "8ad1f844-0b09-47fc-9912-629ca3166f74",
   "metadata": {
    "tags": []
   },
   "outputs": [],
   "source": [
    "feature_importance.to_csv('numeric_feature_importance.csv', index=False)"
   ]
  },
  {
   "cell_type": "code",
   "execution_count": 55,
   "id": "657a3edf-c006-4c5b-802a-cbbb78f6efb2",
   "metadata": {
    "tags": []
   },
   "outputs": [
    {
     "data": {
      "image/png": "[encoded data removed]",
      "text/plain": [
       "<Figure size 750x500 with 1 Axes>"
      ]
     },
     "metadata": {},
     "output_type": "display_data"
    }
   ],
   "source": [
    "fig, ax = plt.subplots(1,1, figsize=(7.5,5))\n",
    "ax.scatter(y_test, y_pred)\n",
    "ax.set_xlabel('True Value')\n",
    "ax.set_ylabel('Predicted Value')\n",
    "fig.tight_layout()"
   ]
  },
  {
   "cell_type": "markdown",
   "id": "bcd80649-3db7-4b90-a482-d271a678e662",
   "metadata": {},
   "source": [
    "## Binary Classifier"
   ]
  },
  {
   "cell_type": "code",
   "execution_count": 80,
   "id": "573930b4-0a44-4033-b430-1c73d409b2e4",
   "metadata": {
    "tags": []
   },
   "outputs": [],
   "source": [
    "# Split the data\n",
    "if final == 0:\n",
    "    # drop company name as well as 'PRICE VAR','Class' which are what we're trying to predict and a sector to prevent perfect multicollinearity\n",
    "    X = df.drop(columns=['company','PRICE_VAR','Class','Sector_Technology', 'year']).copy() # dropped a sector to not have perfect collinearity    \n",
    "    \n",
    "    # define what we are trying to predict\n",
    "    y=df['Class'].copy()    \n",
    "    \n",
    "    X_train, X_test, y_train, y_test = train_test_split(\n",
    "        X, y, test_size=0.2, random_state=123456789\n",
    "    )\n",
    "elif final == 1:\n",
    "    # dropped a sector to not have perfect collinearity    \n",
    "    X_train = df.loc[df['test']==0, :].drop(columns=['company','PRICE_VAR','Class','Sector_Technology', 'year', 'test']).copy()\n",
    "    X_test = df.loc[df['test']==1, :].drop(columns=['company','PRICE_VAR','Class','Sector_Technology', 'year', 'test']).copy()\n",
    "    y_train = df.loc[df['test']==0, 'Class'].copy()\n",
    "    y_test = df.loc[df['test']==1, 'Class'].copy()\n",
    "    \n",
    "    # create an info df to be able to piece back the info\n",
    "    info_train = df.loc[df['test']==0, ['company', 'year', 'test', 'Class', 'PRICE_VAR']].copy()    \n",
    "    info_test = df.loc[df['test']==1, ['company', 'year', 'test', 'Class', 'PRICE_VAR']].copy()    \n",
    "\n",
    "# Create LightGBM datasets\n",
    "train_data = lgb.Dataset(X_train, label=y_train)\n",
    "test_data = lgb.Dataset(X_test, label=y_test, reference=train_data)\n",
    "\n",
    "# Set parameters\n",
    "params = {\n",
    "    'objective': 'binary',  # for regression problems\n",
    "    'metric': 'binary_logloss',          # evaluation metric\n",
    "    'num_leaves': 31,          # max number of leaves in one tree\n",
    "    'learning_rate': 0.05,     # learning rate\n",
    "    'feature_fraction': 0.9,   # fraction of features to use in each iteration\n",
    "    'bagging_fraction': 0.8,   # fraction of data to use for each iteration\n",
    "    'bagging_freq': 5,         # perform bagging every k iterations\n",
    "    'verbose': -1              # suppress printing\n",
    "}\n",
    "\n",
    "# Train model\n",
    "model = lgb.train(\n",
    "    params,\n",
    "    train_data\n",
    ")\n",
    "\n",
    "# Make predictions\n",
    "y_pred = model.predict(X_test)\n",
    "y_pred_raw = model.predict(X_test)\n",
    "y_pred = (y_pred > 0.5).astype(int)\n",
    "\n",
    "# Calculate metrics\n",
    "metrics = {\n",
    "    'accuracy': accuracy_score(y_test, y_pred),\n",
    "    'precision': precision_score(y_test, y_pred),\n",
    "    'recall': recall_score(y_test, y_pred),\n",
    "    'f1': f1_score(y_test, y_pred),\n",
    "    'auc_roc': roc_auc_score(y_test, y_pred)\n",
    "}"
   ]
  },
  {
   "cell_type": "code",
   "execution_count": 81,
   "id": "950e6fb6-8113-4702-9270-923ab1ce87e2",
   "metadata": {
    "tags": []
   },
   "outputs": [],
   "source": [
    "# Feature importance\n",
    "feature_importance = pd.DataFrame({\n",
    "    'feature': X.columns,\n",
    "    'importance': model.feature_importance()\n",
    "}).sort_values('importance', ascending=False)"
   ]
  },
  {
   "cell_type": "code",
   "execution_count": 82,
   "id": "69628238-0555-4822-8fb0-cf5247b17981",
   "metadata": {
    "tags": []
   },
   "outputs": [
    {
     "data": {
      "text/html": [
       "<div>\n",
       "<style scoped>\n",
       "    .dataframe tbody tr th:only-of-type {\n",
       "        vertical-align: middle;\n",
       "    }\n",
       "\n",
       "    .dataframe tbody tr th {\n",
       "        vertical-align: top;\n",
       "    }\n",
       "\n",
       "    .dataframe thead th {\n",
       "        text-align: right;\n",
       "    }\n",
       "</style>\n",
       "<table border=\"1\" class=\"dataframe\">\n",
       "  <thead>\n",
       "    <tr style=\"text-align: right;\">\n",
       "      <th></th>\n",
       "      <th>feature</th>\n",
       "      <th>importance</th>\n",
       "    </tr>\n",
       "  </thead>\n",
       "  <tbody>\n",
       "    <tr>\n",
       "      <th>71</th>\n",
       "      <td>Effect_of_forex_changes_on_cash</td>\n",
       "      <td>72</td>\n",
       "    </tr>\n",
       "    <tr>\n",
       "      <th>58</th>\n",
       "      <td>Other_Assets</td>\n",
       "      <td>51</td>\n",
       "    </tr>\n",
       "    <tr>\n",
       "      <th>197</th>\n",
       "      <td>Operating_Cash_Flow_growth</td>\n",
       "      <td>44</td>\n",
       "    </tr>\n",
       "    <tr>\n",
       "      <th>217</th>\n",
       "      <td>Book_Value_per_Share_Growth</td>\n",
       "      <td>44</td>\n",
       "    </tr>\n",
       "    <tr>\n",
       "      <th>57</th>\n",
       "      <td>Net_Debt</td>\n",
       "      <td>38</td>\n",
       "    </tr>\n",
       "    <tr>\n",
       "      <th>95</th>\n",
       "      <td>returnOnAssets</td>\n",
       "      <td>37</td>\n",
       "    </tr>\n",
       "    <tr>\n",
       "      <th>195</th>\n",
       "      <td>Weighted_Average_Shares_Diluted_Growth</td>\n",
       "      <td>37</td>\n",
       "    </tr>\n",
       "    <tr>\n",
       "      <th>153</th>\n",
       "      <td>Free_Cash_Flow_Yield</td>\n",
       "      <td>37</td>\n",
       "    </tr>\n",
       "    <tr>\n",
       "      <th>89</th>\n",
       "      <td>niperEBT</td>\n",
       "      <td>37</td>\n",
       "    </tr>\n",
       "    <tr>\n",
       "      <th>18</th>\n",
       "      <td>Weighted_Average_Shs_Out</td>\n",
       "      <td>37</td>\n",
       "    </tr>\n",
       "    <tr>\n",
       "      <th>194</th>\n",
       "      <td>Weighted_Average_Shares_Growth</td>\n",
       "      <td>36</td>\n",
       "    </tr>\n",
       "    <tr>\n",
       "      <th>214</th>\n",
       "      <td>Receivables_growth</td>\n",
       "      <td>36</td>\n",
       "    </tr>\n",
       "    <tr>\n",
       "      <th>1</th>\n",
       "      <td>Revenue_Growth</td>\n",
       "      <td>36</td>\n",
       "    </tr>\n",
       "    <tr>\n",
       "      <th>152</th>\n",
       "      <td>Earnings_Yield</td>\n",
       "      <td>34</td>\n",
       "    </tr>\n",
       "    <tr>\n",
       "      <th>215</th>\n",
       "      <td>Inventory_Growth</td>\n",
       "      <td>33</td>\n",
       "    </tr>\n",
       "    <tr>\n",
       "      <th>75</th>\n",
       "      <td>priceBookValueRatio</td>\n",
       "      <td>30</td>\n",
       "    </tr>\n",
       "    <tr>\n",
       "      <th>86</th>\n",
       "      <td>priceFairValue</td>\n",
       "      <td>30</td>\n",
       "    </tr>\n",
       "    <tr>\n",
       "      <th>156</th>\n",
       "      <td>Net_Debt_to_EBITDA</td>\n",
       "      <td>30</td>\n",
       "    </tr>\n",
       "    <tr>\n",
       "      <th>68</th>\n",
       "      <td>Issuance_buybacks_of_shares</td>\n",
       "      <td>29</td>\n",
       "    </tr>\n",
       "    <tr>\n",
       "      <th>210</th>\n",
       "      <td>3Y_Shareholders_Equity_Growth_per_Share</td>\n",
       "      <td>29</td>\n",
       "    </tr>\n",
       "    <tr>\n",
       "      <th>190</th>\n",
       "      <td>Operating_Income_Growth</td>\n",
       "      <td>28</td>\n",
       "    </tr>\n",
       "    <tr>\n",
       "      <th>76</th>\n",
       "      <td>priceToBookRatio</td>\n",
       "      <td>27</td>\n",
       "    </tr>\n",
       "    <tr>\n",
       "      <th>54</th>\n",
       "      <td>Retained_earnings_deficit</td>\n",
       "      <td>27</td>\n",
       "    </tr>\n",
       "    <tr>\n",
       "      <th>127</th>\n",
       "      <td>shortTermCoverageRatios</td>\n",
       "      <td>27</td>\n",
       "    </tr>\n",
       "    <tr>\n",
       "      <th>201</th>\n",
       "      <td>3Y_Revenue_Growth_per_Share</td>\n",
       "      <td>27</td>\n",
       "    </tr>\n",
       "  </tbody>\n",
       "</table>\n",
       "</div>"
      ],
      "text/plain": [
       "                                     feature  importance\n",
       "71           Effect_of_forex_changes_on_cash          72\n",
       "58                              Other_Assets          51\n",
       "197               Operating_Cash_Flow_growth          44\n",
       "217              Book_Value_per_Share_Growth          44\n",
       "57                                  Net_Debt          38\n",
       "95                            returnOnAssets          37\n",
       "195   Weighted_Average_Shares_Diluted_Growth          37\n",
       "153                     Free_Cash_Flow_Yield          37\n",
       "89                                  niperEBT          37\n",
       "18                  Weighted_Average_Shs_Out          37\n",
       "194           Weighted_Average_Shares_Growth          36\n",
       "214                       Receivables_growth          36\n",
       "1                             Revenue_Growth          36\n",
       "152                           Earnings_Yield          34\n",
       "215                         Inventory_Growth          33\n",
       "75                       priceBookValueRatio          30\n",
       "86                            priceFairValue          30\n",
       "156                       Net_Debt_to_EBITDA          30\n",
       "68               Issuance_buybacks_of_shares          29\n",
       "210  3Y_Shareholders_Equity_Growth_per_Share          29\n",
       "190                  Operating_Income_Growth          28\n",
       "76                          priceToBookRatio          27\n",
       "54                 Retained_earnings_deficit          27\n",
       "127                  shortTermCoverageRatios          27\n",
       "201              3Y_Revenue_Growth_per_Share          27"
      ]
     },
     "execution_count": 82,
     "metadata": {},
     "output_type": "execute_result"
    }
   ],
   "source": [
    "feature_importance.head(25)"
   ]
  },
  {
   "cell_type": "code",
   "execution_count": 83,
   "id": "1249624a-cf9c-4f55-9cc6-67e732d1fa91",
   "metadata": {
    "tags": []
   },
   "outputs": [],
   "source": [
    "feature_importance.to_csv('binary_feature_importance.csv', index=False)"
   ]
  },
  {
   "cell_type": "code",
   "execution_count": 84,
   "id": "1e7881cd-1a70-4aef-9175-04944d324b10",
   "metadata": {
    "tags": []
   },
   "outputs": [],
   "source": [
    "# fig, ax = plt.subplots(1,1, figsize=(7.5,5))\n",
    "# ax.scatter(y_test, y_pred)\n",
    "# ax.set_xlabel('True Value')\n",
    "# ax.set_ylabel('Predicted Value')\n",
    "# fig.tight_layout()"
   ]
  },
  {
   "cell_type": "code",
   "execution_count": 85,
   "id": "ef93839c-1c9b-48b8-af9e-536ba5ec9994",
   "metadata": {
    "tags": []
   },
   "outputs": [
    {
     "data": {
      "text/plain": [
       "{'accuracy': 0.6371244635193133,\n",
       " 'precision': 0.6492587601078167,\n",
       " 'recall': 0.7477687233216919,\n",
       " 'f1': 0.6950405770964834,\n",
       " 'auc_roc': 0.6240043808639184}"
      ]
     },
     "execution_count": 85,
     "metadata": {},
     "output_type": "execute_result"
    }
   ],
   "source": [
    "metrics"
   ]
  },
  {
   "cell_type": "code",
   "execution_count": 86,
   "id": "c307a0e3-aa31-4dae-a027-8893aafac0b4",
   "metadata": {
    "tags": []
   },
   "outputs": [
    {
     "data": {
      "text/plain": [
       "array([1., 1., 1., ..., 1., 1., 1.])"
      ]
     },
     "execution_count": 86,
     "metadata": {},
     "output_type": "execute_result"
    }
   ],
   "source": [
    "np.ones(y_test.shape)"
   ]
  },
  {
   "cell_type": "code",
   "execution_count": null,
   "id": "4bd63a6a-8509-425a-bbb0-7d94b3467077",
   "metadata": {},
   "outputs": [],
   "source": []
  },
  {
   "cell_type": "code",
   "execution_count": 87,
   "id": "729bc84f-348a-4f65-80b2-3f7eaa528563",
   "metadata": {
    "tags": []
   },
   "outputs": [
    {
     "data": {
      "image/png": "[encoded data removed]",
      "text/plain": [
       "<Figure size 800x600 with 2 Axes>"
      ]
     },
     "metadata": {},
     "output_type": "display_data"
    }
   ],
   "source": [
    "# Calculate confusion matrix\n",
    "# cm = confusion_matrix(np.ones(y_test.shape), y_pred) # created a vector of ones to make sure I am labeling the figure correctly\n",
    "cm = confusion_matrix(y_test, y_pred)\n",
    "\n",
    "# Create figure and axes\n",
    "plt.figure(figsize=(8, 6))\n",
    "\n",
    "# Create heatmap\n",
    "sns.heatmap(cm, \n",
    "            annot=True,           # Show numbers in cells\n",
    "            fmt='d',             # Format as integers\n",
    "            cbar=True,           # Show color bar\n",
    "            cmap = sns.color_palette(\"mako\", as_cmap=True),\n",
    "            square=True)         # Make cells square\n",
    "\n",
    "# plt.xticks(np.arange(2) + 0.5, ['Negative', 'Positive'], rotation=45)\n",
    "# plt.yticks(np.arange(2) + 0.5, ['Negative', 'Positive'], rotation=0)\n",
    "\n",
    "# Customize the plot\n",
    "plt.title('Confusion Matrix', pad=20)\n",
    "plt.xlabel('Predicted Class')\n",
    "plt.ylabel('True Class')\n",
    "\n",
    "# Adjust layout\n",
    "plt.tight_layout()"
   ]
  },
  {
   "cell_type": "code",
   "execution_count": 88,
   "id": "463c9445-76ea-4b06-a6e0-50983cc07f85",
   "metadata": {
    "tags": []
   },
   "outputs": [
    {
     "data": {
      "text/plain": [
       "0        0\n",
       "2        1\n",
       "5        1\n",
       "7        0\n",
       "15       1\n",
       "        ..\n",
       "22051    1\n",
       "22052    1\n",
       "22057    0\n",
       "22070    1\n",
       "22072    0\n",
       "Name: Class, Length: 4660, dtype: int64"
      ]
     },
     "execution_count": 88,
     "metadata": {},
     "output_type": "execute_result"
    }
   ],
   "source": [
    "y_test"
   ]
  },
  {
   "cell_type": "code",
   "execution_count": 89,
   "id": "141af291-4d2c-4d40-907f-f109e60f633d",
   "metadata": {
    "tags": []
   },
   "outputs": [
    {
     "data": {
      "text/plain": [
       "array([0.79724909, 0.57737226, 0.81118932, ..., 0.50256442, 0.53728926,\n",
       "       0.45887412])"
      ]
     },
     "execution_count": 89,
     "metadata": {},
     "output_type": "execute_result"
    }
   ],
   "source": [
    "y_pred_raw"
   ]
  },
  {
   "cell_type": "code",
   "execution_count": 90,
   "id": "c43830b3-b44e-40df-b179-7b86bdfe64a5",
   "metadata": {
    "tags": []
   },
   "outputs": [],
   "source": [
    "info_test['lgb_pred'] = y_pred_raw\n",
    "info_test['lgb_keep'] = y_pred"
   ]
  },
  {
   "cell_type": "code",
   "execution_count": 92,
   "id": "c42fee3a-7fe4-445e-a607-3d923031caed",
   "metadata": {
    "tags": []
   },
   "outputs": [
    {
     "data": {
      "text/html": [
       "<div>\n",
       "<style scoped>\n",
       "    .dataframe tbody tr th:only-of-type {\n",
       "        vertical-align: middle;\n",
       "    }\n",
       "\n",
       "    .dataframe tbody tr th {\n",
       "        vertical-align: top;\n",
       "    }\n",
       "\n",
       "    .dataframe thead th {\n",
       "        text-align: right;\n",
       "    }\n",
       "</style>\n",
       "<table border=\"1\" class=\"dataframe\">\n",
       "  <thead>\n",
       "    <tr style=\"text-align: right;\">\n",
       "      <th></th>\n",
       "      <th>company</th>\n",
       "      <th>year</th>\n",
       "      <th>test</th>\n",
       "      <th>Class</th>\n",
       "      <th>PRICE_VAR</th>\n",
       "      <th>lgb_pred</th>\n",
       "      <th>lgb_keep</th>\n",
       "    </tr>\n",
       "  </thead>\n",
       "  <tbody>\n",
       "    <tr>\n",
       "      <th>0</th>\n",
       "      <td>PG</td>\n",
       "      <td>2014</td>\n",
       "      <td>1</td>\n",
       "      <td>0</td>\n",
       "      <td>-9.323276</td>\n",
       "      <td>0.797249</td>\n",
       "      <td>1</td>\n",
       "    </tr>\n",
       "    <tr>\n",
       "      <th>2</th>\n",
       "      <td>KR</td>\n",
       "      <td>2014</td>\n",
       "      <td>1</td>\n",
       "      <td>1</td>\n",
       "      <td>33.118297</td>\n",
       "      <td>0.577372</td>\n",
       "      <td>1</td>\n",
       "    </tr>\n",
       "    <tr>\n",
       "      <th>5</th>\n",
       "      <td>PM</td>\n",
       "      <td>2014</td>\n",
       "      <td>1</td>\n",
       "      <td>1</td>\n",
       "      <td>13.980937</td>\n",
       "      <td>0.811189</td>\n",
       "      <td>1</td>\n",
       "    </tr>\n",
       "    <tr>\n",
       "      <th>7</th>\n",
       "      <td>WMT</td>\n",
       "      <td>2014</td>\n",
       "      <td>1</td>\n",
       "      <td>0</td>\n",
       "      <td>-26.653702</td>\n",
       "      <td>0.520885</td>\n",
       "      <td>1</td>\n",
       "    </tr>\n",
       "    <tr>\n",
       "      <th>15</th>\n",
       "      <td>KMB</td>\n",
       "      <td>2014</td>\n",
       "      <td>1</td>\n",
       "      <td>1</td>\n",
       "      <td>13.745829</td>\n",
       "      <td>0.803558</td>\n",
       "      <td>1</td>\n",
       "    </tr>\n",
       "    <tr>\n",
       "      <th>...</th>\n",
       "      <td>...</td>\n",
       "      <td>...</td>\n",
       "      <td>...</td>\n",
       "      <td>...</td>\n",
       "      <td>...</td>\n",
       "      <td>...</td>\n",
       "      <td>...</td>\n",
       "    </tr>\n",
       "    <tr>\n",
       "      <th>22051</th>\n",
       "      <td>VTNR</td>\n",
       "      <td>2018</td>\n",
       "      <td>1</td>\n",
       "      <td>1</td>\n",
       "      <td>25.203247</td>\n",
       "      <td>0.378031</td>\n",
       "      <td>0</td>\n",
       "    </tr>\n",
       "    <tr>\n",
       "      <th>22052</th>\n",
       "      <td>VVUS</td>\n",
       "      <td>2018</td>\n",
       "      <td>1</td>\n",
       "      <td>1</td>\n",
       "      <td>16.239322</td>\n",
       "      <td>0.439514</td>\n",
       "      <td>0</td>\n",
       "    </tr>\n",
       "    <tr>\n",
       "      <th>22057</th>\n",
       "      <td>WHLM</td>\n",
       "      <td>2018</td>\n",
       "      <td>1</td>\n",
       "      <td>0</td>\n",
       "      <td>-28.987994</td>\n",
       "      <td>0.502564</td>\n",
       "      <td>1</td>\n",
       "    </tr>\n",
       "    <tr>\n",
       "      <th>22070</th>\n",
       "      <td>XELB</td>\n",
       "      <td>2018</td>\n",
       "      <td>1</td>\n",
       "      <td>1</td>\n",
       "      <td>27.118650</td>\n",
       "      <td>0.537289</td>\n",
       "      <td>1</td>\n",
       "    </tr>\n",
       "    <tr>\n",
       "      <th>22072</th>\n",
       "      <td>YRIV</td>\n",
       "      <td>2018</td>\n",
       "      <td>1</td>\n",
       "      <td>0</td>\n",
       "      <td>-90.962099</td>\n",
       "      <td>0.458874</td>\n",
       "      <td>0</td>\n",
       "    </tr>\n",
       "  </tbody>\n",
       "</table>\n",
       "<p>4660 rows × 7 columns</p>\n",
       "</div>"
      ],
      "text/plain": [
       "      company  year  test  Class  PRICE_VAR  lgb_pred  lgb_keep\n",
       "0          PG  2014     1      0  -9.323276  0.797249         1\n",
       "2          KR  2014     1      1  33.118297  0.577372         1\n",
       "5          PM  2014     1      1  13.980937  0.811189         1\n",
       "7         WMT  2014     1      0 -26.653702  0.520885         1\n",
       "15        KMB  2014     1      1  13.745829  0.803558         1\n",
       "...       ...   ...   ...    ...        ...       ...       ...\n",
       "22051    VTNR  2018     1      1  25.203247  0.378031         0\n",
       "22052    VVUS  2018     1      1  16.239322  0.439514         0\n",
       "22057    WHLM  2018     1      0 -28.987994  0.502564         1\n",
       "22070    XELB  2018     1      1  27.118650  0.537289         1\n",
       "22072    YRIV  2018     1      0 -90.962099  0.458874         0\n",
       "\n",
       "[4660 rows x 7 columns]"
      ]
     },
     "execution_count": 92,
     "metadata": {},
     "output_type": "execute_result"
    }
   ],
   "source": [
    "info_test"
   ]
  },
  {
   "cell_type": "code",
   "execution_count": 93,
   "id": "52cacff8-5749-4014-8a13-653c5d56c219",
   "metadata": {
    "tags": []
   },
   "outputs": [],
   "source": [
    "info_test.to_csv('final_predictions_lgbm.csv')"
   ]
  },
  {
   "cell_type": "code",
   "execution_count": 110,
   "id": "17bf8c92-f8de-4e26-94e7-be9475982c7c",
   "metadata": {
    "tags": []
   },
   "outputs": [],
   "source": [
    "pd.DataFrame(zip(y_test, y_pred), columns=['True','Predicted']).to_csv('test_data_predictions.csv')"
   ]
  },
  {
   "cell_type": "code",
   "execution_count": 117,
   "id": "087893fd-a4ff-4236-8e94-3bf82b3bf092",
   "metadata": {
    "tags": []
   },
   "outputs": [
    {
     "name": "stdout",
     "output_type": "stream",
     "text": [
      "<class 'pandas.core.frame.DataFrame'>\n",
      "RangeIndex: 22077 entries, 0 to 22076\n",
      "Columns: 235 entries, company to Sector_Utilities\n",
      "dtypes: bool(11), float64(222), int64(1), object(1)\n",
      "memory usage: 38.0+ MB\n"
     ]
    }
   ],
   "source": [
    "df.info()"
   ]
  },
  {
   "cell_type": "code",
   "execution_count": null,
   "id": "5cdc53ee-7980-4173-a14f-00a46f964d25",
   "metadata": {},
   "outputs": [],
   "source": []
  }
 ],
 "metadata": {
  "kernelspec": {
   "display_name": "Python 3 (ipykernel)",
   "language": "python",
   "name": "python3"
  },
  "language_info": {
   "codemirror_mode": {
    "name": "ipython",
    "version": 3
   },
   "file_extension": ".py",
   "mimetype": "text/x-python",
   "name": "python",
   "nbconvert_exporter": "python",
   "pygments_lexer": "ipython3",
   "version": "3.11.5"
  }
 },
 "nbformat": 4,
 "nbformat_minor": 5
}
